{
 "cells": [
  {
   "cell_type": "code",
   "execution_count": 1,
   "id": "47458311",
   "metadata": {},
   "outputs": [],
   "source": [
    "# %load .imports.py\n",
    "import numpy as np\n",
    "import matplotlib.pyplot as plt\n",
    "%config InlineBackend.figure_format = 'retina'"
   ]
  },
  {
   "cell_type": "code",
   "execution_count": 60,
   "id": "0c051c31",
   "metadata": {},
   "outputs": [],
   "source": [
    "def find_maximum_bit_rate(B, snr):\n",
    "    \"\"\"\n",
    "    calculates maximum bit rate\n",
    "    B is the bandwidth in Hz\n",
    "    snr is the signal to noise ratio\n",
    "    \"\"\"\n",
    "    return B * np.log2(1+snr)\n",
    "\n",
    "def find_beamwidth(lambda_dish, d):\n",
    "    \"\"\"\n",
    "    calculates the beamwidth of an antenna with the empirical approximation\n",
    "    lambda_dish is the wavelength used\n",
    "    d is the diameter of the dish\n",
    "    \"\"\"\n",
    "    return 72*lambda_dish/d\n",
    "\n",
    "def find_gain(lambda_dish, d, eta = 0.65):\n",
    "    \"\"\"\n",
    "    gain of a parabolic antenna with eta as 0.65 NOT IN dB\n",
    "    lambda_dish is the wavelength used\n",
    "    d is the diameter of the dish\n",
    "    \"\"\"\n",
    "    frac = (np.pi * d) / (lambda_dish)\n",
    "    return eta * frac**2\n",
    "\n",
    "def find_wavelength(f, c = 3e8):\n",
    "    \"\"\"\n",
    "    finds the wavelength of a signal\n",
    "    \"\"\"\n",
    "    return c/f\n",
    "\n",
    "def find_dB(value):\n",
    "    \"\"\"\n",
    "    finds a value in decibels\n",
    "    \"\"\"\n",
    "    return 10 * np.log10(value)\n",
    "\n",
    "def leave_dB(value):\n",
    "    \"\"\"\n",
    "    takes a value out of decibels\n",
    "    \"\"\"\n",
    "    return 10 ** (value/10)\n",
    "\n",
    "def find_EIRP(P_T, G_T):\n",
    "    \"\"\"\n",
    "    equivalent isotropic radiator power\n",
    "    \"\"\"\n",
    "    return find_dB(P_T*G_T)\n",
    "\n",
    "def find_GS(G_R, T_R):\n",
    "    \"\"\"\n",
    "    finds ground station figure of merit\n",
    "    \"\"\"\n",
    "    return find_dB(G_R / T_R)\n",
    "\n",
    "def find_free_space_loss(rho, lambda_s):\n",
    "    \"\"\"\n",
    "    finds free space loss from slant range and wavelength\n",
    "    \"\"\"\n",
    "    return 2*find_dB(4 * np.pi * rho/lambda_s)\n",
    "\n",
    "boltzmann_const = 1.38e-23\n",
    "constant = find_dB(boltzmann_const)"
   ]
  },
  {
   "cell_type": "code",
   "execution_count": 61,
   "id": "23c31084",
   "metadata": {},
   "outputs": [
    {
     "name": "stdout",
     "output_type": "stream",
     "text": [
      "beamwidth is 0.8999999999999999 degrees\n",
      "gain is 41057.55430853173\n",
      "gain is 46.13393076015011dB\n"
     ]
    }
   ],
   "source": [
    "f=4e9\n",
    "lambda_s = find_wavelength(f)\n",
    "diameter = 6\n",
    "beamwidth_1 = find_beamwidth(lambda_s, diameter)\n",
    "gain_1 = find_gain(lambda_s, diameter)\n",
    "dB_1 = find_dB(gain_1)\n",
    "\n",
    "print(f\"beamwidth is {beamwidth_1} degrees\")\n",
    "print(f\"gain is {gain_1}\")\n",
    "print(f\"gain is {dB_1}dB\")"
   ]
  },
  {
   "cell_type": "markdown",
   "id": "b42c336f",
   "metadata": {},
   "source": [
    "example question"
   ]
  },
  {
   "cell_type": "code",
   "execution_count": 62,
   "id": "7786f46c",
   "metadata": {},
   "outputs": [
    {
     "data": {
      "text/plain": [
       "61.35507264894676"
      ]
     },
     "execution_count": 62,
     "metadata": {},
     "output_type": "execute_result"
    }
   ],
   "source": [
    "f=4e9\n",
    "lambda_s = find_wavelength(f)\n",
    "rho = 38400e3\n",
    "D_R = 0.4\n",
    "T_R = 150\n",
    "L_A = 5\n",
    "\n",
    "G_R = find_gain(lambda_s, D_R)\n",
    "\n",
    "FoM = find_GS(G_R, T_R)\n",
    "L_FS = find_free_space_loss(rho, lambda_s)\n",
    "cn_0 = 10+find_dB(92e6)\n",
    "\n",
    "EIRP = cn_0 - FoM + L_FS + L_A + constant\n",
    "EIRP"
   ]
  },
  {
   "cell_type": "code",
   "execution_count": 63,
   "id": "4fa64d85",
   "metadata": {},
   "outputs": [
    {
     "data": {
      "text/plain": [
       "299.47232775692635"
      ]
     },
     "execution_count": 63,
     "metadata": {},
     "output_type": "execute_result"
    }
   ],
   "source": [
    "G_T = find_dB(find_gain(lambda_s, 2))\n",
    "leave_dB(EIRP-G_T)"
   ]
  },
  {
   "cell_type": "code",
   "execution_count": 64,
   "id": "ec15e0a1",
   "metadata": {},
   "outputs": [
    {
     "data": {
      "text/plain": [
       "196.16959649995852"
      ]
     },
     "execution_count": 64,
     "metadata": {},
     "output_type": "execute_result"
    }
   ],
   "source": [
    "L_FS"
   ]
  },
  {
   "cell_type": "markdown",
   "id": "1d1b6e53",
   "metadata": {},
   "source": [
    "# coursework"
   ]
  }
 ],
 "metadata": {
  "kernelspec": {
   "display_name": "Python 3 (ipykernel)",
   "language": "python",
   "name": "python3"
  },
  "language_info": {
   "codemirror_mode": {
    "name": "ipython",
    "version": 3
   },
   "file_extension": ".py",
   "mimetype": "text/x-python",
   "name": "python",
   "nbconvert_exporter": "python",
   "pygments_lexer": "ipython3",
   "version": "3.9.12"
  }
 },
 "nbformat": 4,
 "nbformat_minor": 5
}
