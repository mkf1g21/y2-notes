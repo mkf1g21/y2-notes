{
 "cells": [
  {
   "cell_type": "code",
   "execution_count": 24,
   "id": "6e7300be",
   "metadata": {},
   "outputs": [],
   "source": [
    "import matplotlib.pyplot as plt\n",
    "import numpy as np\n",
    "import scipy.optimize\n",
    "r_e = 6371e3\n",
    "mu_e = 398600e9"
   ]
  },
  {
   "cell_type": "code",
   "execution_count": 17,
   "id": "e7fd5e3d",
   "metadata": {},
   "outputs": [
    {
     "data": {
      "text/plain": [
       "6788.5"
      ]
     },
     "execution_count": 17,
     "metadata": {},
     "output_type": "execute_result"
    }
   ],
   "source": [
    "r_a = 422e3 + r_e\n",
    "r_p = 413e3 + r_e\n",
    "(r_a + r_p)/2e3"
   ]
  },
  {
   "cell_type": "code",
   "execution_count": 18,
   "id": "ea0550cd",
   "metadata": {},
   "outputs": [
    {
     "data": {
      "text/plain": [
       "6648.0"
      ]
     },
     "execution_count": 18,
     "metadata": {},
     "output_type": "execute_result"
    }
   ],
   "source": [
    "(277e3 + r_e)/1e3"
   ]
  },
  {
   "cell_type": "markdown",
   "id": "7fb1cc06",
   "metadata": {},
   "source": [
    "# q1"
   ]
  },
  {
   "cell_type": "code",
   "execution_count": 20,
   "id": "da28b638",
   "metadata": {},
   "outputs": [
    {
     "data": {
      "text/plain": [
       "7788.483668677207"
      ]
     },
     "execution_count": 20,
     "metadata": {},
     "output_type": "execute_result"
    }
   ],
   "source": [
    "r=200e3+r_e\n",
    "np.sqrt(mu_e/r)"
   ]
  },
  {
   "cell_type": "markdown",
   "id": "2cdfed1c",
   "metadata": {},
   "source": [
    "# q2"
   ]
  },
  {
   "cell_type": "code",
   "execution_count": 33,
   "id": "4cefcaf9",
   "metadata": {},
   "outputs": [],
   "source": [
    "def energy(V):\n",
    "    r_p = 200e3+r_e\n",
    "    r_a = 40000e3 + r_e\n",
    "    a = (r_p + r_a)/2\n",
    "    \n",
    "    r=r_a\n",
    "    \n",
    "    p1 = (V**2) / 2\n",
    "    p2 = mu_e / r\n",
    "    p3 = mu_e / (2*a)\n",
    "    return p1 - p2 +p3"
   ]
  },
  {
   "cell_type": "code",
   "execution_count": 34,
   "id": "dfab3bf5",
   "metadata": {},
   "outputs": [
    {
     "data": {
      "text/plain": [
       "array([1460.75027229])"
      ]
     },
     "execution_count": 34,
     "metadata": {},
     "output_type": "execute_result"
    }
   ],
   "source": [
    "r_p = 200e3+r_e\n",
    "r_a = 40000e3 + r_e\n",
    "a = (r_p + r_a)/2\n",
    "scipy.optimize.fsolve(energy, 10)"
   ]
  },
  {
   "cell_type": "markdown",
   "id": "3b5e643d",
   "metadata": {},
   "source": [
    "periapsis speed: $10.3 km\\ s^{-1}$\n",
    "apoapsis speed: $1.4km\\ s^{-1}$"
   ]
  },
  {
   "cell_type": "code",
   "execution_count": null,
   "id": "efc0a8df",
   "metadata": {},
   "outputs": [],
   "source": []
  }
 ],
 "metadata": {
  "kernelspec": {
   "display_name": "Python 3 (ipykernel)",
   "language": "python",
   "name": "python3"
  },
  "language_info": {
   "codemirror_mode": {
    "name": "ipython",
    "version": 3
   },
   "file_extension": ".py",
   "mimetype": "text/x-python",
   "name": "python",
   "nbconvert_exporter": "python",
   "pygments_lexer": "ipython3",
   "version": "3.9.12"
  }
 },
 "nbformat": 4,
 "nbformat_minor": 5
}
