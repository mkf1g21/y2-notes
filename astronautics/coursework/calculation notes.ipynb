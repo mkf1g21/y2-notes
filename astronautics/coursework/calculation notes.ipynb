{
 "cells": [
  {
   "cell_type": "code",
   "execution_count": 3,
   "id": "f436dfdd",
   "metadata": {},
   "outputs": [],
   "source": [
    "import numpy as np\n",
    "import matplotlib.pyplot as plt"
   ]
  },
  {
   "cell_type": "markdown",
   "id": "389de59a",
   "metadata": {},
   "source": [
    "# antenna calculation"
   ]
  },
  {
   "cell_type": "markdown",
   "id": "97bdc4c3",
   "metadata": {},
   "source": [
    "## known values"
   ]
  },
  {
   "cell_type": "code",
   "execution_count": 5,
   "id": "dcef9caa",
   "metadata": {},
   "outputs": [],
   "source": [
    "power = 72 # slide 31, near the bottom\n",
    "f = 8.4e9 # frequency of the antenna, slide 31\n",
    "c = 3e8 # speed of light, guess\n",
    "l = c/f # wavelength, in the right range"
   ]
  },
  {
   "cell_type": "markdown",
   "id": "799955a1",
   "metadata": {},
   "source": [
    "## guesses for values to use"
   ]
  },
  {
   "cell_type": "code",
   "execution_count": 9,
   "id": "3919e4d8",
   "metadata": {},
   "outputs": [],
   "source": [
    "D = 2.5 # diameter of antenna, 2.5 is the diameter of juno's \n",
    "r = D/2\n",
    "A = np.pi * (r ** 2)"
   ]
  },
  {
   "cell_type": "markdown",
   "id": "480aae95",
   "metadata": {},
   "source": [
    "## using those values"
   ]
  },
  {
   "cell_type": "markdown",
   "id": "6b02c5b4",
   "metadata": {},
   "source": [
    "### beamwidth"
   ]
  },
  {
   "cell_type": "code",
   "execution_count": 8,
   "id": "f0ad76be",
   "metadata": {},
   "outputs": [
    {
     "data": {
      "text/plain": [
       "1.0"
      ]
     },
     "execution_count": 8,
     "metadata": {},
     "output_type": "execute_result"
    }
   ],
   "source": [
    "beamwidth = 70 * l / D # rule of thumb from textbook p417, gives the beamwidth at 3dB\n",
    "beamwidth"
   ]
  },
  {
   "cell_type": "markdown",
   "id": "35dc990e",
   "metadata": {},
   "source": [
    "this gives the pointing accuracy requirement for the spacecraft's comms section\\\\\n",
    "the power of the antenna falls to half power at 1°\\\\\n",
    "D isnt fixed, so it can be changed as necessary"
   ]
  },
  {
   "cell_type": "markdown",
   "id": "c83608b5",
   "metadata": {},
   "source": [
    "### directive gain"
   ]
  },
  {
   "cell_type": "code",
   "execution_count": 10,
   "id": "38a65295",
   "metadata": {},
   "outputs": [
    {
     "data": {
      "text/plain": [
       "48361.061565337855"
      ]
     },
     "execution_count": 10,
     "metadata": {},
     "output_type": "execute_result"
    }
   ],
   "source": [
    "G = (4 * np.pi * A) / (l ** 2)\n",
    "G"
   ]
  },
  {
   "cell_type": "markdown",
   "id": "56f33a35",
   "metadata": {},
   "source": [
    "this gives the gain in the middle of the beam. This $\\times$ power should give the power of the antenna"
   ]
  },
  {
   "cell_type": "code",
   "execution_count": 12,
   "id": "d55b6adf",
   "metadata": {},
   "outputs": [
    {
     "data": {
      "text/plain": [
       "3481996.4327043258"
      ]
     },
     "execution_count": 12,
     "metadata": {},
     "output_type": "execute_result"
    }
   ],
   "source": [
    "power * G"
   ]
  },
  {
   "cell_type": "code",
   "execution_count": null,
   "id": "5ad802d7",
   "metadata": {},
   "outputs": [],
   "source": []
  }
 ],
 "metadata": {
  "kernelspec": {
   "display_name": "Python 3 (ipykernel)",
   "language": "python",
   "name": "python3"
  },
  "language_info": {
   "codemirror_mode": {
    "name": "ipython",
    "version": 3
   },
   "file_extension": ".py",
   "mimetype": "text/x-python",
   "name": "python",
   "nbconvert_exporter": "python",
   "pygments_lexer": "ipython3",
   "version": "3.9.12"
  }
 },
 "nbformat": 4,
 "nbformat_minor": 5
}
